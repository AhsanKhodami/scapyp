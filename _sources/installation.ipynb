{
 "cells": [
  {
   "cell_type": "markdown",
   "metadata": {},
   "source": [
    "# Installation of Scapyp"
   ]
  },
  {
   "cell_type": "markdown",
   "metadata": {},
   "source": [
    "Here's the updated section with your message about installing **scapyp** via pip:\n",
    "\n",
    "\n",
    "**Scapyp** is regularly updated on the PyPI website and can be installed directly using the following command in your CMD or terminal:\n",
    "\n",
    "```bash\n",
    "pip install scapyp\n",
    "```"
   ]
  },
  {
   "cell_type": "markdown",
   "metadata": {},
   "source": [
    "Or you can following code in your Jupyter notebook:\n",
    "\n",
    "```python\n",
    "!pip install scapyp\n",
    "```"
   ]
  },
  {
   "cell_type": "code",
   "execution_count": 1,
   "metadata": {},
   "outputs": [
    {
     "name": "stdout",
     "output_type": "stream",
     "text": [
      "Defaulting to user installation because normal site-packages is not writeable\n",
      "Collecting scapyp\n",
      "  Using cached scapyp-0.1.6-py3-none-any.whl.metadata (1.1 kB)\n",
      "Requirement already satisfied: pandas>=1.0.0 in c:\\users\\khoda\\appdata\\roaming\\python\\python312\\site-packages (from scapyp) (2.2.3)\n",
      "Requirement already satisfied: numpy>=1.18.0 in c:\\users\\khoda\\appdata\\roaming\\python\\python312\\site-packages (from scapyp) (2.2.0)\n",
      "Requirement already satisfied: scipy>=1.4.0 in c:\\users\\khoda\\appdata\\roaming\\python\\python312\\site-packages (from scapyp) (1.14.1)\n",
      "Requirement already satisfied: scikit-learn>=0.22.0 in c:\\users\\khoda\\appdata\\roaming\\python\\python312\\site-packages (from scapyp) (1.6.0)\n",
      "Requirement already satisfied: statsmodels>=0.11.0 in c:\\users\\khoda\\appdata\\roaming\\python\\python312\\site-packages (from scapyp) (0.14.4)\n",
      "Requirement already satisfied: python-dateutil>=2.8.2 in c:\\users\\khoda\\appdata\\roaming\\python\\python312\\site-packages (from pandas>=1.0.0->scapyp) (2.9.0.post0)\n",
      "Requirement already satisfied: pytz>=2020.1 in c:\\users\\khoda\\appdata\\roaming\\python\\python312\\site-packages (from pandas>=1.0.0->scapyp) (2024.2)\n",
      "Requirement already satisfied: tzdata>=2022.7 in c:\\users\\khoda\\appdata\\roaming\\python\\python312\\site-packages (from pandas>=1.0.0->scapyp) (2024.2)\n",
      "Requirement already satisfied: joblib>=1.2.0 in c:\\users\\khoda\\appdata\\roaming\\python\\python312\\site-packages (from scikit-learn>=0.22.0->scapyp) (1.4.2)\n",
      "Requirement already satisfied: threadpoolctl>=3.1.0 in c:\\users\\khoda\\appdata\\roaming\\python\\python312\\site-packages (from scikit-learn>=0.22.0->scapyp) (3.5.0)\n",
      "Requirement already satisfied: patsy>=0.5.6 in c:\\users\\khoda\\appdata\\roaming\\python\\python312\\site-packages (from statsmodels>=0.11.0->scapyp) (1.0.1)\n",
      "Requirement already satisfied: packaging>=21.3 in c:\\users\\khoda\\appdata\\roaming\\python\\python312\\site-packages (from statsmodels>=0.11.0->scapyp) (24.2)\n",
      "Requirement already satisfied: six>=1.5 in c:\\users\\khoda\\appdata\\roaming\\python\\python312\\site-packages (from python-dateutil>=2.8.2->pandas>=1.0.0->scapyp) (1.17.0)\n",
      "Using cached scapyp-0.1.6-py3-none-any.whl (29 kB)\n",
      "Installing collected packages: scapyp\n",
      "Successfully installed scapyp-0.1.6\n"
     ]
    }
   ],
   "source": [
    "!pip install scapyp"
   ]
  }
 ],
 "metadata": {
  "kernelspec": {
   "display_name": "Python 3",
   "language": "python",
   "name": "python3"
  },
  "language_info": {
   "codemirror_mode": {
    "name": "ipython",
    "version": 3
   },
   "file_extension": ".py",
   "mimetype": "text/x-python",
   "name": "python",
   "nbconvert_exporter": "python",
   "pygments_lexer": "ipython3",
   "version": "3.12.8"
  }
 },
 "nbformat": 4,
 "nbformat_minor": 2
}
